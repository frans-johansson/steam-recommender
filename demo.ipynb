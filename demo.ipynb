{
 "metadata": {
  "language_info": {
   "codemirror_mode": {
    "name": "ipython",
    "version": 3
   },
   "file_extension": ".py",
   "mimetype": "text/x-python",
   "name": "python",
   "nbconvert_exporter": "python",
   "pygments_lexer": "ipython3",
   "version": "3.6.9-final"
  },
  "orig_nbformat": 2,
  "kernelspec": {
   "name": "python3",
   "display_name": "Python 3.6.9 64-bit ('.env')",
   "metadata": {
    "interpreter": {
     "hash": "5fecc8a3cc85e9eee36e45da953014564364aabe4b18c7968f3747c4bdbd6434"
    }
   }
  }
 },
 "nbformat": 4,
 "nbformat_minor": 2,
 "cells": [
  {
   "source": [
    "# Recommender systems for Steam games\n",
    "\n",
    "This notebook serves as a demo of the functionality introduced in this [project blog](https://frans-johansson.github.io/steam-recommender/)"
   ],
   "cell_type": "markdown",
   "metadata": {}
  },
  {
   "cell_type": "code",
   "execution_count": 1,
   "metadata": {},
   "outputs": [],
   "source": [
    "import pandas as pd\n",
    "import steam_data_store as steam\n",
    "from steam_api import api_requests as api\n",
    "from recommenders import collaborative\n",
    "from recommenders import content_based\n",
    "from recommenders import text_mining\n",
    "from recommenders import scoring"
   ]
  },
  {
   "cell_type": "code",
   "execution_count": 2,
   "metadata": {},
   "outputs": [],
   "source": [
    "# The Steam User ID of some random user retrieved from the API docummentation\n",
    "id = '76561197960434622'"
   ]
  },
  {
   "source": [
    "## Content-based recommendations\n",
    "\n",
    "### Bags-of-features method"
   ],
   "cell_type": "markdown",
   "metadata": {}
  },
  {
   "cell_type": "code",
   "execution_count": 3,
   "metadata": {},
   "outputs": [],
   "source": [
    "user_library = api.get_owned_games(id)\n",
    "owned_in_store = user_library.index.isin(steam.games.index)\n",
    "user_library = user_library[owned_in_store].sort_values(ascending=False)\n",
    "owned_idx = [steam.games.index.get_loc(idx) for idx in user_library.index]"
   ]
  },
  {
   "cell_type": "code",
   "execution_count": 4,
   "metadata": {},
   "outputs": [],
   "source": [
    "bags = content_based.make_bags(steam.games, {\n",
    "    'dev_tags':             ['developer', 'popular_tags'],\n",
    "    'pub_tags':             ['publisher', 'popular_tags'],\n",
    "    'tags_details_genre':   ['popular_tags', 'game_details', 'genre'],\n",
    "    'all':                  ['developer', 'publisher', 'popular_tags', 'game_details', 'genre']\n",
    "})"
   ]
  },
  {
   "cell_type": "code",
   "execution_count": 5,
   "metadata": {},
   "outputs": [
    {
     "output_type": "execute_result",
     "data": {
      "text/plain": [
       "name                                                         Factorio  \\\n",
       "dev_tags            [Imagine Earth, The Universim, After the Colla...   \n",
       "pub_tags            [Imagine Earth, The Universim, After the Colla...   \n",
       "tags_details_genre  [Barotrauma, CounterAttack, Zaccaria Pinball, ...   \n",
       "all                 [Barotrauma, CounterAttack, Zaccaria Pinball, ...   \n",
       "\n",
       "name                                                   Clicker Heroes  \\\n",
       "dev_tags            [Talisman: Digital Edition, Mitos.is: The Game...   \n",
       "pub_tags            [Mitos.is: The Game, Talisman: Digital Edition...   \n",
       "tags_details_genre  [scram, Business Tour - Board Game with Online...   \n",
       "all                 [scram, Clicker Heroes: Boxy & Bloop Auto Clic...   \n",
       "\n",
       "name                                        The Witcher® 3: Wild Hunt  \n",
       "dev_tags            [The Witcher 3: Wild Hunt - Blood and Wine, Th...  \n",
       "pub_tags            [The Witcher 3: Wild Hunt - Blood and Wine, Th...  \n",
       "tags_details_genre  [The Witcher 3: Wild Hunt - Blood and Wine, Th...  \n",
       "all                 [The Witcher 2: Assassins of Kings Enhanced Ed...  "
      ],
      "text/html": "<div>\n<style scoped>\n    .dataframe tbody tr th:only-of-type {\n        vertical-align: middle;\n    }\n\n    .dataframe tbody tr th {\n        vertical-align: top;\n    }\n\n    .dataframe thead th {\n        text-align: right;\n    }\n</style>\n<table border=\"1\" class=\"dataframe\">\n  <thead>\n    <tr style=\"text-align: right;\">\n      <th>name</th>\n      <th>Factorio</th>\n      <th>Clicker Heroes</th>\n      <th>The Witcher® 3: Wild Hunt</th>\n    </tr>\n  </thead>\n  <tbody>\n    <tr>\n      <th>dev_tags</th>\n      <td>[Imagine Earth, The Universim, After the Colla...</td>\n      <td>[Talisman: Digital Edition, Mitos.is: The Game...</td>\n      <td>[The Witcher 3: Wild Hunt - Blood and Wine, Th...</td>\n    </tr>\n    <tr>\n      <th>pub_tags</th>\n      <td>[Imagine Earth, The Universim, After the Colla...</td>\n      <td>[Mitos.is: The Game, Talisman: Digital Edition...</td>\n      <td>[The Witcher 3: Wild Hunt - Blood and Wine, Th...</td>\n    </tr>\n    <tr>\n      <th>tags_details_genre</th>\n      <td>[Barotrauma, CounterAttack, Zaccaria Pinball, ...</td>\n      <td>[scram, Business Tour - Board Game with Online...</td>\n      <td>[The Witcher 3: Wild Hunt - Blood and Wine, Th...</td>\n    </tr>\n    <tr>\n      <th>all</th>\n      <td>[Barotrauma, CounterAttack, Zaccaria Pinball, ...</td>\n      <td>[scram, Clicker Heroes: Boxy &amp; Bloop Auto Clic...</td>\n      <td>[The Witcher 2: Assassins of Kings Enhanced Ed...</td>\n    </tr>\n  </tbody>\n</table>\n</div>"
     },
     "metadata": {},
     "execution_count": 5
    }
   ],
   "source": [
    "most_played_idx = owned_idx[:3]\n",
    "most_played_names = steam.games.iloc[most_played_idx]['name']\n",
    "similarities = content_based.calculate_similarities(bags, most_played_idx, most_played_names)\n",
    "\n",
    "content_based.get_recommendations(similarities, steam.games, steam.index, owned_idx, n=5)"
   ]
  },
  {
   "source": [
    "### LSA method"
   ],
   "cell_type": "markdown",
   "metadata": {}
  },
  {
   "cell_type": "code",
   "execution_count": 6,
   "metadata": {},
   "outputs": [],
   "source": [
    "lsa = text_mining.LSA(steam.descriptions)"
   ]
  },
  {
   "cell_type": "code",
   "execution_count": 7,
   "metadata": {},
   "outputs": [],
   "source": [
    "most_played_desc = steam.descriptions.iloc[most_played_idx]\n",
    "owned_names = steam.games.loc[user_library.index]['name']\n",
    "\n",
    "lsa.make_query(most_played_desc, steam.games, steam.index, owned_names, n=5).to_frame().set_index(most_played_names).to_csv('text_mining_recommendations.csv', encoding='utf-8')\n"
   ]
  },
  {
   "source": [
    "## Collaborative filtering"
   ],
   "cell_type": "markdown",
   "metadata": {}
  },
  {
   "cell_type": "code",
   "execution_count": 8,
   "metadata": {},
   "outputs": [],
   "source": [
    "from scipy.sparse import csr_matrix"
   ]
  },
  {
   "cell_type": "code",
   "execution_count": 9,
   "metadata": {},
   "outputs": [],
   "source": [
    "ui_data = collaborative.make_user_item_data(id)"
   ]
  },
  {
   "cell_type": "code",
   "execution_count": 10,
   "metadata": {},
   "outputs": [],
   "source": [
    "ui_data.iloc[:5, :5].to_csv('./ui_data.csv', encoding='utf-8')"
   ]
  },
  {
   "cell_type": "code",
   "execution_count": 11,
   "metadata": {},
   "outputs": [],
   "source": [
    "ui_mat = csr_matrix(ui_data)\n",
    "ui_train, ui_test, u_to_test = collaborative.make_train_test(ui_mat, 0.1)"
   ]
  },
  {
   "source": [
    "### ALS"
   ],
   "cell_type": "markdown",
   "metadata": {}
  },
  {
   "cell_type": "code",
   "execution_count": 12,
   "metadata": {},
   "outputs": [
    {
     "output_type": "stream",
     "name": "stderr",
     "text": [
      "WARNING:root:OpenBLAS detected. Its highly recommend to set the environment variable 'export OPENBLAS_NUM_THREADS=1' to disable its internal multithreading\n"
     ]
    },
    {
     "output_type": "display_data",
     "data": {
      "text/plain": "HBox(children=(HTML(value=''), FloatProgress(value=0.0, max=50.0), HTML(value='')))",
      "application/vnd.jupyter.widget-view+json": {
       "version_major": 2,
       "version_minor": 0,
       "model_id": "6e5e14417402489c94684eaa4077fa32"
      }
     },
     "metadata": {}
    },
    {
     "output_type": "stream",
     "name": "stdout",
     "text": [
      "\n"
     ]
    }
   ],
   "source": [
    "als_model = collaborative.fit_ALS_model(ui_train.T)"
   ]
  },
  {
   "cell_type": "code",
   "execution_count": 13,
   "metadata": {},
   "outputs": [
    {
     "output_type": "stream",
     "name": "stdout",
     "text": [
      "Failed to get game data for 99810\n"
     ]
    },
    {
     "output_type": "execute_result",
     "data": {
      "text/plain": [
       "['Child of Light',\n",
       " 'Hammerfight',\n",
       " 'Downwell',\n",
       " 'Thief: Deadly Shadows',\n",
       " 'Grim Dawn',\n",
       " 'Ori and the Blind Forest',\n",
       " 'The Witness',\n",
       " '7 Days to Die',\n",
       " 'HuniePop']"
      ]
     },
     "metadata": {},
     "execution_count": 13
    }
   ],
   "source": [
    "rec_idxs = collaborative.get_ALS_recommendations(als_model, ui_data.shape[0]-1, ui_train, n=10)\n",
    "rec_ids = ui_data.columns[rec_idxs]\n",
    "\n",
    "rec_data = [api.get_game_data(rec_id) for rec_id in rec_ids]\n",
    "[game['name'] for game in rec_data if game is not None]"
   ]
  },
  {
   "source": [
    "### SVD with GD"
   ],
   "cell_type": "markdown",
   "metadata": {}
  },
  {
   "cell_type": "code",
   "execution_count": 14,
   "metadata": {},
   "outputs": [],
   "source": [
    "ui_train_data = pd.DataFrame.sparse.from_spmatrix(ui_train)\n",
    "ui_pred = collaborative.SVD_gradient_descent(ui_train_data)"
   ]
  },
  {
   "cell_type": "code",
   "execution_count": 15,
   "metadata": {},
   "outputs": [],
   "source": [
    "ui_pred_data = pd.DataFrame(ui_pred, columns=ui_data.columns, index=ui_data.index)"
   ]
  },
  {
   "cell_type": "code",
   "execution_count": 16,
   "metadata": {},
   "outputs": [
    {
     "output_type": "stream",
     "name": "stdout",
     "text": [
      "Failed to get game data for 10000\n"
     ]
    },
    {
     "output_type": "execute_result",
     "data": {
      "text/plain": [
       "['Counter-Strike: Condition Zero',\n",
       " 'Crown Trick',\n",
       " 'Cook, Serve, Delicious! 3?!',\n",
       " 'Zengeon',\n",
       " 'WRATH: Aeon of Ruin',\n",
       " 'Angry Birds VR: Isle of Pigs',\n",
       " 'BoneCraft',\n",
       " 'Tower Behind the Moon',\n",
       " 'Chronicon Apocalyptica']"
      ]
     },
     "metadata": {},
     "execution_count": 16
    }
   ],
   "source": [
    "rec_ids = collaborative.get_EM_recommendations(ui_pred_data, id, user_library.index)\n",
    "\n",
    "rec_data = [api.get_game_data(rec_id) for rec_id in rec_ids]\n",
    "[game['name'] for game in rec_data if game is not None]"
   ]
  }
 ]
}